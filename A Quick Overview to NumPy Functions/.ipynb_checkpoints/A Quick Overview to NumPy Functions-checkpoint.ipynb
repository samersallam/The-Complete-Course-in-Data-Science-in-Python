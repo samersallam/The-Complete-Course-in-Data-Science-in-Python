{
 "cells": [
  {
   "cell_type": "markdown",
   "metadata": {},
   "source": [
    "# A Quick Overview to NumPy Functions"
   ]
  },
  {
   "cell_type": "markdown",
   "metadata": {},
   "source": [
    "1. Universal Functions"
   ]
  },
  {
   "cell_type": "code",
   "execution_count": 1,
   "metadata": {},
   "outputs": [],
   "source": [
    "import numpy as np"
   ]
  },
  {
   "cell_type": "code",
   "execution_count": 2,
   "metadata": {},
   "outputs": [
    {
     "data": {
      "text/plain": [
       "254"
      ]
     },
     "execution_count": 2,
     "metadata": {},
     "output_type": "execute_result"
    }
   ],
   "source": [
    "# sum for 1D array\n",
    "data = np.array([56, 21, 56, 10, 6, 24, 81])\n",
    "np.sum(data)"
   ]
  },
  {
   "cell_type": "code",
   "execution_count": 3,
   "metadata": {},
   "outputs": [
    {
     "data": {
      "text/plain": [
       "20"
      ]
     },
     "execution_count": 3,
     "metadata": {},
     "output_type": "execute_result"
    }
   ],
   "source": [
    "# sum with 2D array\n",
    "data = np.array([[1, 2, 3, 4],\n",
    "                 [1, 2, 3, 4]])\n",
    "np.sum(data) # The output is a number"
   ]
  },
  {
   "cell_type": "code",
   "execution_count": 4,
   "metadata": {},
   "outputs": [
    {
     "data": {
      "text/plain": [
       "array([2, 4, 6, 8])"
      ]
     },
     "execution_count": 4,
     "metadata": {},
     "output_type": "execute_result"
    }
   ],
   "source": [
    "data = np.array([[1, 2, 3, 4],\n",
    "                 [1, 2, 3, 4]])\n",
    "np.sum(data, axis=0)  # Columns sum (the output is an array)"
   ]
  },
  {
   "cell_type": "code",
   "execution_count": 5,
   "metadata": {},
   "outputs": [
    {
     "data": {
      "text/plain": [
       "array([10, 10])"
      ]
     },
     "execution_count": 5,
     "metadata": {},
     "output_type": "execute_result"
    }
   ],
   "source": [
    "data = np.array([[1, 2, 3, 4],\n",
    "                 [1, 2, 3, 4]])\n",
    "np.sum(data, axis=1)  # Rows sum (the output is an array)"
   ]
  },
  {
   "cell_type": "code",
   "execution_count": 6,
   "metadata": {},
   "outputs": [
    {
     "data": {
      "text/plain": [
       "array([10, 10])"
      ]
     },
     "execution_count": 6,
     "metadata": {},
     "output_type": "execute_result"
    }
   ],
   "source": [
    "# Example\n",
    "data = np.array([[1, 2, 3, 4],\n",
    "                 [1, 2, 3, 4]])\n",
    "data.sum(axis=1)  # Rows sum (the output is an array)"
   ]
  },
  {
   "cell_type": "markdown",
   "metadata": {},
   "source": [
    "2. Reshaping Functions"
   ]
  },
  {
   "cell_type": "code",
   "execution_count": 7,
   "metadata": {},
   "outputs": [
    {
     "name": "stdout",
     "output_type": "stream",
     "text": [
      "(4, 5)\n"
     ]
    }
   ],
   "source": [
    "data = np.array([[5, 6, 9, 3, 5],\n",
    "                 [9, 3, 6, 5, 8],\n",
    "                 [6, 1, 8, 7, 1],\n",
    "                 [1, 8, 9, 3, 5]])\n",
    "print(data.shape)"
   ]
  },
  {
   "cell_type": "code",
   "execution_count": 8,
   "metadata": {},
   "outputs": [
    {
     "name": "stdout",
     "output_type": "stream",
     "text": [
      "[[[5 6]\n",
      "  [9 3]\n",
      "  [5 9]\n",
      "  [3 6]\n",
      "  [5 8]]\n",
      "\n",
      " [[6 1]\n",
      "  [8 7]\n",
      "  [1 1]\n",
      "  [8 9]\n",
      "  [3 5]]]\n",
      "\n",
      "(2, 5, 2)\n"
     ]
    }
   ],
   "source": [
    "reshaped_data = data.reshape(2, 5, 2)\n",
    "print(reshaped_data)\n",
    "print()\n",
    "print(reshaped_data.shape)"
   ]
  },
  {
   "cell_type": "code",
   "execution_count": 9,
   "metadata": {},
   "outputs": [
    {
     "name": "stdout",
     "output_type": "stream",
     "text": [
      "(4, 5)\n"
     ]
    }
   ],
   "source": [
    "data = np.array([[5, 6, 9, 3, 5],\n",
    "                 [9, 3, 6, 5, 8],\n",
    "                 [6, 1, 8, 7, 1],\n",
    "                 [1, 8, 9, 3, 5]])\n",
    "print(data.shape)"
   ]
  },
  {
   "cell_type": "code",
   "execution_count": 10,
   "metadata": {},
   "outputs": [
    {
     "name": "stdout",
     "output_type": "stream",
     "text": [
      "[5 6 9 3 5 9 3 6 5 8 6 1 8 7 1 1 8 9 3 5]\n",
      "\n",
      "(20,)\n"
     ]
    }
   ],
   "source": [
    "reshaped_data = data.flatten()\n",
    "print(reshaped_data)\n",
    "print()\n",
    "print(reshaped_data.shape)"
   ]
  },
  {
   "cell_type": "code",
   "execution_count": 11,
   "metadata": {},
   "outputs": [
    {
     "name": "stdout",
     "output_type": "stream",
     "text": [
      "(4, 5)\n"
     ]
    }
   ],
   "source": [
    "data = np.array([[5, 6, 9, 3, 5],\n",
    "                 [9, 3, 6, 5, 8],\n",
    "                 [6, 1, 8, 7, 1],\n",
    "                 [1, 8, 9, 3, 5]])\n",
    "print(data.shape)"
   ]
  },
  {
   "cell_type": "code",
   "execution_count": 12,
   "metadata": {},
   "outputs": [
    {
     "name": "stdout",
     "output_type": "stream",
     "text": [
      "[[5 9 6 1]\n",
      " [6 3 1 8]\n",
      " [9 6 8 9]\n",
      " [3 5 7 3]\n",
      " [5 8 1 5]]\n",
      "\n",
      "(5, 4)\n"
     ]
    }
   ],
   "source": [
    "reshaped_data = data.transpose()\n",
    "print(reshaped_data)\n",
    "print()\n",
    "print(reshaped_data.shape)"
   ]
  },
  {
   "cell_type": "markdown",
   "metadata": {},
   "source": [
    "3. Stacking and Splitting Functions"
   ]
  },
  {
   "cell_type": "code",
   "execution_count": 13,
   "metadata": {},
   "outputs": [
    {
     "name": "stdout",
     "output_type": "stream",
     "text": [
      "[[11 22 33 44]\n",
      " [55 66 77 88]]\n"
     ]
    }
   ],
   "source": [
    "arr1 = np.array([11,  22,  33,  44])\n",
    "arr2 = np.array([55,  66,  77,  88])\n",
    "arr = np.stack((arr1, arr2), axis=0) # The first axis is the new one\n",
    "print(arr)"
   ]
  },
  {
   "cell_type": "code",
   "execution_count": 14,
   "metadata": {},
   "outputs": [
    {
     "name": "stdout",
     "output_type": "stream",
     "text": [
      "[[11 55]\n",
      " [22 66]\n",
      " [33 77]\n",
      " [44 88]]\n"
     ]
    }
   ],
   "source": [
    "arr = np.stack((arr1, arr2), axis=1) # The second axis is the new one\n",
    "print(arr)"
   ]
  },
  {
   "cell_type": "code",
   "execution_count": 15,
   "metadata": {},
   "outputs": [
    {
     "name": "stdout",
     "output_type": "stream",
     "text": [
      "[11 22 33 44 55 66 77 88]\n"
     ]
    }
   ],
   "source": [
    "# Stack horizontally\n",
    "arr1 = np.array([11,  22,  33,  44])\n",
    "arr2 = np.array([55,  66,  77,  88])\n",
    "arr = np.hstack((arr1, arr2))\n",
    "print(arr)"
   ]
  },
  {
   "cell_type": "code",
   "execution_count": 16,
   "metadata": {},
   "outputs": [
    {
     "name": "stdout",
     "output_type": "stream",
     "text": [
      "[[11 22 33 44]\n",
      " [55 66 77 88]]\n"
     ]
    }
   ],
   "source": [
    "# Stack vertically\n",
    "arr1 = np.array([11,  22,  33,  44])\n",
    "arr2 = np.array([55,  66,  77,  88])\n",
    "arr = np.vstack((arr1, arr2))\n",
    "print(arr)"
   ]
  },
  {
   "cell_type": "code",
   "execution_count": 17,
   "metadata": {},
   "outputs": [
    {
     "name": "stdout",
     "output_type": "stream",
     "text": [
      "[array([[11, 22, 33, 44]]), array([[55, 66, 77, 88]])]\n"
     ]
    }
   ],
   "source": [
    "data = np.array([[ 11,  22,  33,  44],\n",
    "                 [ 55,  66,  77,  88]])\n",
    "\n",
    "# Split vertically\n",
    "sub_arrays = np.split(data, 2, axis=0)\n",
    "print(sub_arrays)"
   ]
  },
  {
   "cell_type": "code",
   "execution_count": 18,
   "metadata": {},
   "outputs": [
    {
     "name": "stdout",
     "output_type": "stream",
     "text": [
      "[array([[11, 22],\n",
      "       [55, 66]]), array([[33, 44],\n",
      "       [77, 88]])]\n"
     ]
    }
   ],
   "source": [
    "# Split horizontally\n",
    "sub_arrays = np.split(data, 2, axis=1)\n",
    "print(sub_arrays)"
   ]
  },
  {
   "cell_type": "code",
   "execution_count": 19,
   "metadata": {},
   "outputs": [
    {
     "name": "stdout",
     "output_type": "stream",
     "text": [
      "[array([[11, 22],\n",
      "       [55, 66]]), array([[33, 44],\n",
      "       [77, 88]])]\n"
     ]
    }
   ],
   "source": [
    "# Split horizontally\n",
    "data = np.array([[ 11,  22,  33,  44],\n",
    "                 [ 55,  66,  77,  88]])\n",
    "sub_arrays = np.hsplit(data, 2)\n",
    "print(sub_arrays)"
   ]
  },
  {
   "cell_type": "code",
   "execution_count": 20,
   "metadata": {},
   "outputs": [
    {
     "name": "stdout",
     "output_type": "stream",
     "text": [
      "[array([[11, 22, 33, 44]]), array([[55, 66, 77, 88]])]\n"
     ]
    }
   ],
   "source": [
    "# Split vertically\n",
    "data = np.array([[ 11,  22,  33,  44],\n",
    "                 [ 55,  66,  77,  88]])\n",
    "sub_arrays = np.vsplit(data, 2)\n",
    "print(sub_arrays)"
   ]
  },
  {
   "cell_type": "markdown",
   "metadata": {},
   "source": [
    "### Thank You"
   ]
  }
 ],
 "metadata": {
  "kernelspec": {
   "display_name": "Python 3",
   "language": "python",
   "name": "python3"
  },
  "language_info": {
   "codemirror_mode": {
    "name": "ipython",
    "version": 3
   },
   "file_extension": ".py",
   "mimetype": "text/x-python",
   "name": "python",
   "nbconvert_exporter": "python",
   "pygments_lexer": "ipython3",
   "version": "3.7.1"
  }
 },
 "nbformat": 4,
 "nbformat_minor": 4
}
