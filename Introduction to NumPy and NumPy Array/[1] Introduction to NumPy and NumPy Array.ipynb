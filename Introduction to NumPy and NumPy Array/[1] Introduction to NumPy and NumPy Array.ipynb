{
 "cells": [
  {
   "cell_type": "markdown",
   "metadata": {},
   "source": [
    "# What is NumPy?"
   ]
  },
  {
   "cell_type": "markdown",
   "metadata": {},
   "source": [
    "NumPy, according to its official website, is the fundamental package for scientific computing in Python. It provides a multidimensional array object, various derived objects (such as masked arrays and matrices), and an assortment of routines for fast operations on arrays, including mathematical, logical, shape manipulation, sorting, selecting, I/O, discrete Fourier transforms, basic linear algebra, basic statistical operations, random simulation and much more."
   ]
  },
  {
   "cell_type": "markdown",
   "metadata": {},
   "source": [
    "<center><img src=\"imgs/numpy.png\"></center>"
   ]
  },
  {
   "cell_type": "markdown",
   "metadata": {},
   "source": [
    "NumPy is considered one of the most common libraries in Python not only because of its great features like vectorization and broadcasting which make it have C speed, but also because of being as an  essential  requirement for tons of machine learning, deep learning, and data science libraries which in turn make learning NumPy very important to continue learning the previously mentioned fields from practical perspective. \n",
    "\n",
    "In this lecture, we will get NumPy installed in our devices and then we will learn about the most important data structure in NumPy which is NumPy array. So let us get started. "
   ]
  },
  {
   "cell_type": "markdown",
   "metadata": {},
   "source": [
    "# Numpy Installation\n",
    "<br>\n",
    "<center><img src=\"imgs/installation.jpeg\"></center>"
   ]
  },
  {
   "cell_type": "markdown",
   "metadata": {},
   "source": [
    "Standard Python distribution doesn't come bundled with NumPy package, so you need to install it. The only prerequisite for installing NumPy is Python itself.\n",
    "\n",
    "If you use pip, you can install NumPy by opening the **command prompt** and type:\n",
    "\n",
    "pip install numpy\n",
    "\n",
    "or from the **notebook** directly, just type and run:\n",
    "\n",
    "!pip install numpy"
   ]
  },
  {
   "cell_type": "markdown",
   "metadata": {},
   "source": [
    "Once the library is installed, we should import it in order to use it in the following cells."
   ]
  },
  {
   "cell_type": "code",
   "execution_count": 2,
   "metadata": {},
   "outputs": [],
   "source": [
    "import numpy as np"
   ]
  },
  {
   "cell_type": "markdown",
   "metadata": {},
   "source": [
    "Now let us move on to understand what NumPy array is."
   ]
  },
  {
   "cell_type": "markdown",
   "metadata": {},
   "source": [
    "# NumPy Array"
   ]
  },
  {
   "cell_type": "markdown",
   "metadata": {},
   "source": [
    "NumPy array is the key data structure that is available in this library. This array can be created using ndarray  class which encapsulates n-dimensional arrays of **homogeneous** data types, with many operations being performed in compiled code for performance and speed. \n",
    "So far, the world array has been mentioned several times, so what is the array?"
   ]
  },
  {
   "cell_type": "markdown",
   "metadata": {},
   "source": [
    "## What is the NumPy array?"
   ]
  },
  {
   "cell_type": "markdown",
   "metadata": {},
   "source": [
    "Array is a table of items (usually numbers) which have the same data type. This table could have 1 dimension, 2 dimension or in general N dimensions. \n",
    "<br>\n",
    "<br>\n",
    "<center><img src=\"imgs/d1d2d3.png\"></center>"
   ]
  },
  {
   "cell_type": "markdown",
   "metadata": {},
   "source": [
    "Next we will learn how to create this array using NumPy module."
   ]
  },
  {
   "cell_type": "markdown",
   "metadata": {},
   "source": [
    "## How to Create a NumPy array?"
   ]
  },
  {
   "cell_type": "markdown",
   "metadata": {},
   "source": [
    "Now let us create the first NumPy array. In order to do that we will use the function **array()**:"
   ]
  },
  {
   "cell_type": "code",
   "execution_count": 3,
   "metadata": {},
   "outputs": [
    {
     "name": "stdout",
     "output_type": "stream",
     "text": [
      "[2 5 6 9]\n",
      "<class 'numpy.ndarray'>\n"
     ]
    }
   ],
   "source": [
    "# We create a 1D array by passing a list of numbers\n",
    "\n",
    "one_d_array = np.array([2, 5, 6, 9])\n",
    "print(one_d_array)\n",
    "print(type(one_d_array))"
   ]
  },
  {
   "cell_type": "code",
   "execution_count": 4,
   "metadata": {},
   "outputs": [
    {
     "name": "stdout",
     "output_type": "stream",
     "text": [
      "[[3.5 4.  6.5]\n",
      " [0.4 0.9 4.7]]\n",
      "<class 'numpy.ndarray'>\n"
     ]
    }
   ],
   "source": [
    "# We create a 2D array by passing a list of lists of numbers\n",
    "\n",
    "two_d_array = np.array([\n",
    "    [3.5, 4.0, 6.5], \n",
    "    [0.4, 0.9, 4.7]\n",
    "])\n",
    "print(two_d_array)\n",
    "print(type(two_d_array))"
   ]
  },
  {
   "cell_type": "code",
   "execution_count": 5,
   "metadata": {},
   "outputs": [
    {
     "name": "stdout",
     "output_type": "stream",
     "text": [
      "[[[7 1]\n",
      "  [9 3]\n",
      "  [2 6]]\n",
      "\n",
      " [[4 5]\n",
      "  [0 8]\n",
      "  [8 4]]]\n",
      "<class 'numpy.ndarray'>\n"
     ]
    }
   ],
   "source": [
    "# We create a 3D array by passing a list of lists in which each list is a list of numbers\n",
    "\n",
    "three_d_array = np.array(\n",
    "    [\n",
    "        [[7, 1], \n",
    "         [9, 3], \n",
    "         [2, 6]], \n",
    "    \n",
    "        [[4, 5], \n",
    "         [0, 8], \n",
    "         [8, 4]]\n",
    "    ])\n",
    "print(three_d_array)\n",
    "print(type(three_d_array))"
   ]
  },
  {
   "cell_type": "markdown",
   "metadata": {},
   "source": [
    "It is clear from the previous three examples that the NumPy array is created using the **array()** function by passing a list of items as an argument. Later on we will see other functions that help create special types of array but before that we have to learn about the array attributes which will be covered in the next section."
   ]
  },
  {
   "cell_type": "markdown",
   "metadata": {},
   "source": [
    "## Array Attributes"
   ]
  },
  {
   "cell_type": "markdown",
   "metadata": {},
   "source": [
    "Each array has a set of attributes describing different aspects of the array like size, data type, shape, … etc . Mainly there are five attributes which will be discussed next in details."
   ]
  },
  {
   "cell_type": "markdown",
   "metadata": {},
   "source": [
    "### Number of dimensions: \n",
    "The \"dimension\" is called \"axis\" in NumPy."
   ]
  },
  {
   "cell_type": "code",
   "execution_count": 6,
   "metadata": {},
   "outputs": [
    {
     "name": "stdout",
     "output_type": "stream",
     "text": [
      "[[5.2 3.  4.5]\n",
      " [9.1 0.1 0.3]]\n",
      "Number of dimensions is:  2\n"
     ]
    }
   ],
   "source": [
    "data = np.array([[5.2, 3.0, 4.5] ,\n",
    "                 [9.1, 0.1, 0.3]])\n",
    "print(data)\n",
    "ndim = data.ndim\n",
    "print('Number of dimensions is: ', ndim)"
   ]
  },
  {
   "cell_type": "markdown",
   "metadata": {},
   "source": [
    "Number of dimensions concept would be clearer later on when we talk about indexing."
   ]
  },
  {
   "cell_type": "markdown",
   "metadata": {},
   "source": [
    "### Shape: \n",
    "number of items in each array dimension."
   ]
  },
  {
   "cell_type": "code",
   "execution_count": 7,
   "metadata": {},
   "outputs": [
    {
     "name": "stdout",
     "output_type": "stream",
     "text": [
      "[[5.2 3.  4.5]\n",
      " [9.1 0.1 0.3]]\n",
      "The array shape is:  (2, 3)\n"
     ]
    }
   ],
   "source": [
    "data = np.array([[5.2, 3.0, 4.5] ,\n",
    "                 [9.1, 0.1, 0.3]])\n",
    "print(data)\n",
    "shape = data.shape\n",
    "print('The array shape is: ' , shape)"
   ]
  },
  {
   "cell_type": "markdown",
   "metadata": {},
   "source": [
    "This (2, 3) means that we have 2 items in the first dimensions and 3 items in the second dimension"
   ]
  },
  {
   "cell_type": "markdown",
   "metadata": {},
   "source": [
    "### Size: \n",
    "The total number of items inside the array."
   ]
  },
  {
   "cell_type": "code",
   "execution_count": 8,
   "metadata": {},
   "outputs": [
    {
     "name": "stdout",
     "output_type": "stream",
     "text": [
      "[[5.2 3.  4.5]\n",
      " [9.1 0.1 0.3]]\n",
      "The total number of items in the array is:  6  [item]\n"
     ]
    }
   ],
   "source": [
    "data = np.array([[5.2, 3.0, 4.5] ,\n",
    "                 [9.1, 0.1, 0.3]])\n",
    "print(data)\n",
    "size = data.size\n",
    "print('The total number of items in the array is: ', size, ' [item]')"
   ]
  },
  {
   "cell_type": "markdown",
   "metadata": {},
   "source": [
    "### Data Type: \n",
    "The data type of the array items."
   ]
  },
  {
   "cell_type": "code",
   "execution_count": 9,
   "metadata": {},
   "outputs": [
    {
     "name": "stdout",
     "output_type": "stream",
     "text": [
      "[[5 3 4]\n",
      " [9 0 0]]\n",
      "The items data type is:  int32\n"
     ]
    }
   ],
   "source": [
    "data = np.array([[5, 3, 4] ,\n",
    "                 [9, 0, 0]])\n",
    "print(data)\n",
    "dtype = data.dtype\n",
    "print('The items data type is: ', dtype)"
   ]
  },
  {
   "cell_type": "code",
   "execution_count": 10,
   "metadata": {},
   "outputs": [
    {
     "name": "stdout",
     "output_type": "stream",
     "text": [
      "[[5.2 3.  4.5]\n",
      " [9.1 0.1 0.3]]\n",
      "The items data type is:  float64\n"
     ]
    }
   ],
   "source": [
    "data = np.array([[5.2, 3, 4.5] ,\n",
    "                 [9.1, 0.1, 0.3]])\n",
    "print(data)\n",
    "dtype = data.dtype\n",
    "print('The items data type is: ', dtype)"
   ]
  },
  {
   "cell_type": "markdown",
   "metadata": {},
   "source": [
    "It is clear from the previous two examples that NumPy array will auto-detect the data type of the passed items."
   ]
  },
  {
   "cell_type": "markdown",
   "metadata": {},
   "source": [
    "NumPy array supports a lot of data types. These types are:\n",
    "\n",
    "<br>\n",
    "<br>\n",
    "<center><img src=\"imgs/datatypes.png\"></center>"
   ]
  },
  {
   "cell_type": "markdown",
   "metadata": {},
   "source": [
    "### Item Size: \n",
    "The size in bytes of each item of the array."
   ]
  },
  {
   "cell_type": "code",
   "execution_count": 11,
   "metadata": {},
   "outputs": [
    {
     "name": "stdout",
     "output_type": "stream",
     "text": [
      "[[5.2 3.  4.5]\n",
      " [9.1 0.1 0.3]]\n",
      "The size in bytes of each item of the array is:  8  [byte]\n"
     ]
    }
   ],
   "source": [
    "data = np.array([[5.2, 3.0, 4.5] ,\n",
    "                 [9.1, 0.1, 0.3]])\n",
    "\n",
    "print(data)\n",
    "item_size = data.itemsize\n",
    "print('The size in bytes of each item of the array is: ', item_size, ' [byte]')"
   ]
  },
  {
   "cell_type": "markdown",
   "metadata": {},
   "source": [
    "This \"8\" means that each array item will reserve 8 bytes in the memory. Therefore, the array will reserve in total 6 * 8 = 48 bytes in the memory."
   ]
  },
  {
   "cell_type": "markdown",
   "metadata": {},
   "source": [
    "## Special Functions to create a NumPy array"
   ]
  },
  {
   "cell_type": "markdown",
   "metadata": {},
   "source": [
    "Previously in this article, we saw how we can create a NumPy array using array() function. However, some algorithms require creating special arrays. For example, in deep learning field you might need creating an array of the shape (500, 500) with random values. Therefore, it is impossible to create such an array by using **array()** function which requires you writing manually 250000 number. Next, we will view the most common functions that help you create the special NumPy arrays."
   ]
  },
  {
   "cell_type": "markdown",
   "metadata": {},
   "source": [
    "empty(): Returns ndarray of random values having given shape, order and datatype."
   ]
  },
  {
   "cell_type": "code",
   "execution_count": 5,
   "metadata": {},
   "outputs": [
    {
     "data": {
      "text/plain": [
       "array([[0., 0., 0.],\n",
       "       [0., 0., 0.]])"
      ]
     },
     "execution_count": 5,
     "metadata": {},
     "output_type": "execute_result"
    }
   ],
   "source": [
    "np.empty((2,3))"
   ]
  },
  {
   "cell_type": "code",
   "execution_count": 6,
   "metadata": {},
   "outputs": [
    {
     "data": {
      "text/plain": [
       "array([[1951941856,        663,          0],\n",
       "       [         0,     131074,          0]])"
      ]
     },
     "execution_count": 6,
     "metadata": {},
     "output_type": "execute_result"
    }
   ],
   "source": [
    "np.empty((2,3), dtype=int)"
   ]
  },
  {
   "cell_type": "markdown",
   "metadata": {},
   "source": [
    "zeros(): Returns ndarray of zeros having given shape, order and datatype."
   ]
  },
  {
   "cell_type": "code",
   "execution_count": 7,
   "metadata": {},
   "outputs": [
    {
     "data": {
      "text/plain": [
       "array([[0., 0., 0.],\n",
       "       [0., 0., 0.]])"
      ]
     },
     "execution_count": 7,
     "metadata": {},
     "output_type": "execute_result"
    }
   ],
   "source": [
    "np.zeros((2,3))"
   ]
  },
  {
   "cell_type": "code",
   "execution_count": 8,
   "metadata": {},
   "outputs": [
    {
     "data": {
      "text/plain": [
       "array([[0, 0, 0],\n",
       "       [0, 0, 0]])"
      ]
     },
     "execution_count": 8,
     "metadata": {},
     "output_type": "execute_result"
    }
   ],
   "source": [
    "np.zeros((2,3), dtype=int)"
   ]
  },
  {
   "cell_type": "markdown",
   "metadata": {},
   "source": [
    "ones():  Returns ndarray of ones having given shape, order and datatype."
   ]
  },
  {
   "cell_type": "code",
   "execution_count": 9,
   "metadata": {},
   "outputs": [
    {
     "data": {
      "text/plain": [
       "array([[1., 1., 1.],\n",
       "       [1., 1., 1.]])"
      ]
     },
     "execution_count": 9,
     "metadata": {},
     "output_type": "execute_result"
    }
   ],
   "source": [
    "np.ones((2,3))"
   ]
  },
  {
   "cell_type": "code",
   "execution_count": 10,
   "metadata": {},
   "outputs": [
    {
     "data": {
      "text/plain": [
       "array([[1, 1, 1],\n",
       "       [1, 1, 1]])"
      ]
     },
     "execution_count": 10,
     "metadata": {},
     "output_type": "execute_result"
    }
   ],
   "source": [
    "np.ones((2,3), dtype=int)"
   ]
  },
  {
   "cell_type": "markdown",
   "metadata": {},
   "source": [
    "arange(): Returns an array of evenly spaced values having given start, stop and step values."
   ]
  },
  {
   "cell_type": "code",
   "execution_count": 12,
   "metadata": {},
   "outputs": [
    {
     "data": {
      "text/plain": [
       "array([ 0, 10, 20, 30, 40, 50, 60, 70, 80, 90])"
      ]
     },
     "execution_count": 12,
     "metadata": {},
     "output_type": "execute_result"
    }
   ],
   "source": [
    "np.arange(0, 100, 10)"
   ]
  },
  {
   "cell_type": "code",
   "execution_count": 14,
   "metadata": {},
   "outputs": [
    {
     "data": {
      "text/plain": [
       "array([ 0., 10., 20., 30., 40., 50., 60., 70., 80., 90.])"
      ]
     },
     "execution_count": 14,
     "metadata": {},
     "output_type": "execute_result"
    }
   ],
   "source": [
    "np.arange(0, 100, 10, dtype= float)"
   ]
  },
  {
   "cell_type": "markdown",
   "metadata": {},
   "source": [
    "linspace(): Returns an array of n numbers from a specific range after giving start and stop values."
   ]
  },
  {
   "cell_type": "code",
   "execution_count": 17,
   "metadata": {},
   "outputs": [
    {
     "data": {
      "text/plain": [
       "array([ 1.  ,  3.25,  5.5 ,  7.75, 10.  ])"
      ]
     },
     "execution_count": 17,
     "metadata": {},
     "output_type": "execute_result"
    }
   ],
   "source": [
    "np.linspace(1, 10, 5)"
   ]
  },
  {
   "cell_type": "code",
   "execution_count": 18,
   "metadata": {},
   "outputs": [
    {
     "data": {
      "text/plain": [
       "array([ 1,  3,  5,  7, 10])"
      ]
     },
     "execution_count": 18,
     "metadata": {},
     "output_type": "execute_result"
    }
   ],
   "source": [
    "np.linspace(1, 10, 5, dtype=int)"
   ]
  },
  {
   "cell_type": "markdown",
   "metadata": {},
   "source": [
    "eye(): Returns a 2-D array with ones on the diagonal and zeros elsewhere."
   ]
  },
  {
   "cell_type": "code",
   "execution_count": 19,
   "metadata": {},
   "outputs": [
    {
     "data": {
      "text/plain": [
       "array([[1., 0., 0.],\n",
       "       [0., 1., 0.],\n",
       "       [0., 0., 1.]])"
      ]
     },
     "execution_count": 19,
     "metadata": {},
     "output_type": "execute_result"
    }
   ],
   "source": [
    "np.eye(3)"
   ]
  },
  {
   "cell_type": "code",
   "execution_count": 20,
   "metadata": {},
   "outputs": [
    {
     "data": {
      "text/plain": [
       "array([[1, 0, 0],\n",
       "       [0, 1, 0],\n",
       "       [0, 0, 1]])"
      ]
     },
     "execution_count": 20,
     "metadata": {},
     "output_type": "execute_result"
    }
   ],
   "source": [
    "np.eye(3, dtype=int)"
   ]
  },
  {
   "cell_type": "markdown",
   "metadata": {},
   "source": [
    "identity(): Returns an identity array of shape n*n."
   ]
  },
  {
   "cell_type": "code",
   "execution_count": 22,
   "metadata": {},
   "outputs": [
    {
     "data": {
      "text/plain": [
       "array([[1., 0., 0.],\n",
       "       [0., 1., 0.],\n",
       "       [0., 0., 1.]])"
      ]
     },
     "execution_count": 22,
     "metadata": {},
     "output_type": "execute_result"
    }
   ],
   "source": [
    "np.identity(3)"
   ]
  },
  {
   "cell_type": "code",
   "execution_count": 23,
   "metadata": {},
   "outputs": [
    {
     "data": {
      "text/plain": [
       "array([[1, 0, 0],\n",
       "       [0, 1, 0],\n",
       "       [0, 0, 1]])"
      ]
     },
     "execution_count": 23,
     "metadata": {},
     "output_type": "execute_result"
    }
   ],
   "source": [
    "np.identity(3, dtype=int)"
   ]
  },
  {
   "cell_type": "markdown",
   "metadata": {},
   "source": [
    "random.rand(): Returns random array (uniform distribution) with specific shape"
   ]
  },
  {
   "cell_type": "code",
   "execution_count": 26,
   "metadata": {},
   "outputs": [
    {
     "data": {
      "text/plain": [
       "array([[0.52151574, 0.06907968],\n",
       "       [0.9919698 , 0.37972611]])"
      ]
     },
     "execution_count": 26,
     "metadata": {},
     "output_type": "execute_result"
    }
   ],
   "source": [
    "np.random.rand(2,2)"
   ]
  },
  {
   "cell_type": "code",
   "execution_count": 25,
   "metadata": {},
   "outputs": [
    {
     "data": {
      "text/plain": [
       "array([[[0.14464619, 0.57056709],\n",
       "        [0.21795956, 0.16583718]],\n",
       "\n",
       "       [[0.31378454, 0.30697337],\n",
       "        [0.1509174 , 0.59969219]]])"
      ]
     },
     "execution_count": 25,
     "metadata": {},
     "output_type": "execute_result"
    }
   ],
   "source": [
    "np.random.rand(2,2,2)"
   ]
  },
  {
   "cell_type": "markdown",
   "metadata": {},
   "source": [
    "random.randn(): Returns random array (normal distribution) with specific shape"
   ]
  },
  {
   "cell_type": "code",
   "execution_count": 29,
   "metadata": {},
   "outputs": [
    {
     "data": {
      "text/plain": [
       "array([[ 0.82389185, -0.09159069],\n",
       "       [ 0.82577261,  0.56706587]])"
      ]
     },
     "execution_count": 29,
     "metadata": {},
     "output_type": "execute_result"
    }
   ],
   "source": [
    "np.random.randn(2, 2)"
   ]
  },
  {
   "cell_type": "code",
   "execution_count": 30,
   "metadata": {},
   "outputs": [
    {
     "data": {
      "text/plain": [
       "array([[[ 1.07827387,  1.86496917],\n",
       "        [ 0.8822471 , -0.88937664]],\n",
       "\n",
       "       [[-1.46604457,  0.32435304],\n",
       "        [ 1.02868439,  0.89728447]]])"
      ]
     },
     "execution_count": 30,
     "metadata": {},
     "output_type": "execute_result"
    }
   ],
   "source": [
    "np.random.randn(2, 2, 2)"
   ]
  },
  {
   "cell_type": "markdown",
   "metadata": {},
   "source": [
    "**Note**: \n",
    "- \"order\" parameter in the previous functions would be more clear later on when we discuss indexing in NumPy arrays.\n",
    "- **eye()** and **identity()** functions do the same thing. The main difference is that with **eye()** the diagonal can may be offset, whereas **identity()** only fills the main diagonal."
   ]
  },
  {
   "cell_type": "markdown",
   "metadata": {},
   "source": [
    "# Summary"
   ]
  },
  {
   "cell_type": "markdown",
   "metadata": {},
   "source": [
    "Now let’s summarize what we have learned in this article:\n",
    "<br>\n",
    "<br>\n",
    "<center><img src=\"imgs/summary.jpeg\"></center>\n",
    "<br>\n",
    "\n",
    "- NumPy is considered one of the most common libraries in Python because of its speed and being an essential requirement for tons of other libraries.\n",
    "- Standard Python distribution doesn't come bundled with NumPy package, so you need to install it.\n",
    "- NumPy array is the key data structure that is available in this library.\n",
    "- The key attributes for NumPy array are number of dimensions, shape, size, itemsize  and dtype.\n"
   ]
  }
 ],
 "metadata": {
  "kernelspec": {
   "display_name": "Python 3 (ipykernel)",
   "language": "python",
   "name": "python3"
  },
  "language_info": {
   "codemirror_mode": {
    "name": "ipython",
    "version": 3
   },
   "file_extension": ".py",
   "mimetype": "text/x-python",
   "name": "python",
   "nbconvert_exporter": "python",
   "pygments_lexer": "ipython3",
   "version": "3.7.8"
  },
  "toc": {
   "base_numbering": 1,
   "nav_menu": {},
   "number_sections": true,
   "sideBar": true,
   "skip_h1_title": false,
   "title_cell": "Table of Contents",
   "title_sidebar": "Contents",
   "toc_cell": false,
   "toc_position": {
    "height": "calc(100% - 180px)",
    "left": "10px",
    "top": "150px",
    "width": "256px"
   },
   "toc_section_display": true,
   "toc_window_display": true
  },
  "varInspector": {
   "cols": {
    "lenName": 16,
    "lenType": 16,
    "lenVar": 40
   },
   "kernels_config": {
    "python": {
     "delete_cmd_postfix": "",
     "delete_cmd_prefix": "del ",
     "library": "var_list.py",
     "varRefreshCmd": "print(var_dic_list())"
    },
    "r": {
     "delete_cmd_postfix": ") ",
     "delete_cmd_prefix": "rm(",
     "library": "var_list.r",
     "varRefreshCmd": "cat(var_dic_list()) "
    }
   },
   "types_to_exclude": [
    "module",
    "function",
    "builtin_function_or_method",
    "instance",
    "_Feature"
   ],
   "window_display": false
  }
 },
 "nbformat": 4,
 "nbformat_minor": 4
}
