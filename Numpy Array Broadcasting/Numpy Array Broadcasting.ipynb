{
 "cells": [
  {
   "cell_type": "markdown",
   "id": "38ea67ac",
   "metadata": {},
   "source": [
    "You have learned in the previous lesson how to apply arithmetic operations with arrays with the same shape using element-wise operation, but what if you want to deal with arrays with different shapes? Are these operations still valid to be used? keep reading to get the answer.\n",
    "This lesson will cover the following outlines:\n",
    "    \n",
    "1. What Is Broadcasting?\n",
    "2. Broadcasting Rules"
   ]
  },
  {
   "cell_type": "markdown",
   "id": "cc542bc4",
   "metadata": {},
   "source": [
    "# What Is Broadcasting?"
   ]
  },
  {
   "cell_type": "markdown",
   "id": "c0dc9723",
   "metadata": {},
   "source": [
    "Broadcasting is a powerful mechanism that allows numpy to work with arrays of different shapes when performing arithmetic operations. Frequently we have a smaller array and a larger array, and we want to use the smaller array multiple times to perform some operation on the larger array.\n",
    "\n",
    "Refer to Figure 1"
   ]
  },
  {
   "cell_type": "markdown",
   "id": "eb42fe74",
   "metadata": {},
   "source": [
    "<img src=\"imgs/broadcasting-col-row.gif\">\n",
    "<center>Figure 1: Multiplication between two 1D arrays with different shapes</center>"
   ]
  },
  {
   "cell_type": "markdown",
   "id": "fa124071",
   "metadata": {},
   "source": [
    "For example, suppose that we want to add a constant vector to each row of a matrix.\n",
    "First, you need to import Numpy"
   ]
  },
  {
   "cell_type": "code",
   "execution_count": 5,
   "id": "85bcbecf",
   "metadata": {},
   "outputs": [],
   "source": [
    "import numpy as np"
   ]
  },
  {
   "cell_type": "code",
   "execution_count": 6,
   "id": "81b16d39",
   "metadata": {},
   "outputs": [
    {
     "name": "stdout",
     "output_type": "stream",
     "text": [
      "x shape is (3, 3)\n",
      "x = [[1 2 3]\n",
      " [4 5 6]\n",
      " [7 8 9]]\n",
      "**************\n",
      "v shape is (3,)\n",
      "v = [1 2 3]\n",
      "**************\n",
      "y shape is (3, 3)\n",
      "y = [[ 2  4  6]\n",
      " [ 5  7  9]\n",
      " [ 8 10 12]]\n"
     ]
    }
   ],
   "source": [
    "x = np.array([[1,   2,  3], \n",
    "              [4,   5,  6], \n",
    "              [7,   8,  9]])\n",
    "\n",
    "v = np.array([1, 2, 3])\n",
    "y = x + v\n",
    "\n",
    "x_shape = x.shape\n",
    "v_shape = v.shape\n",
    "y_shape = y.shape\n",
    "print('x shape is', x_shape )\n",
    "print('x =', x)\n",
    "print('**************')\n",
    "print('v shape is', v_shape )\n",
    "print('v =', v)\n",
    "print('**************')\n",
    "print('y shape is', y_shape )\n",
    "print('y =', y)\n"
   ]
  },
  {
   "cell_type": "markdown",
   "id": "c1c398be",
   "metadata": {},
   "source": [
    "You can understand from the previous example that the vector v has been added to each row of the matrix x"
   ]
  },
  {
   "cell_type": "markdown",
   "id": "23ea5d91",
   "metadata": {},
   "source": [
    "**Note**: Adding the vector v to each row of the matrix x is equivalent to forming a matrix vv by stacking multiple copies of v vertically, then performing elementwise summation of x and vv. Numpy broadcasting allows us to perform this computation without actually creating multiple copies of v.\n",
    "Refer to Figure2 to get visual understanding of broadcasting.\n",
    "    \n",
    "<center><img src=\"imgs/broad_sum.PNG\"></center>\n",
    "<br>\n",
    "<br>\n",
    "<center><img src=\"imgs/sum_result.PNG\"></center>\n",
    "<center>Figure 2: Adding a constant vector to each row of a matrix.</center>\n",
    "    "
   ]
  },
  {
   "cell_type": "markdown",
   "id": "e340ad07",
   "metadata": {},
   "source": [
    "# Broadcasting Rules"
   ]
  },
  {
   "cell_type": "markdown",
   "id": "4fa4dc25",
   "metadata": {},
   "source": [
    "In order to use broadcasting, the size of the trailing axes for both arrays in an operation must either be:\n",
    "- the same size or\n",
    "- one of them must be one. \n",
    "\n",
    "As you can see in the prvious example the trailing axis for the first array is 3 and for the second array is 3 so they are equal and broadcasting is valid.\n"
   ]
  },
  {
   "cell_type": "markdown",
   "id": "75e7e4b5",
   "metadata": {},
   "source": [
    "**Note:** In some cases, broadcasting stretches both arrays to form an output array larger than either of the initial arrays. Refer to Figure 4.\n",
    "<br>\n",
    "<br>\n",
    "<center><img src=\"imgs/broad_both_strech.PNG\"></center>\n",
    "<center>Figure 4: Broadcasting stretches both arrays .</center>\n"
   ]
  },
  {
   "cell_type": "markdown",
   "id": "57c4579b",
   "metadata": {},
   "source": [
    "* When the trailing dimensions of the arrays are unequal, broadcasting fails because it is impossible to align the values in the rows of the 1st array with the elements of the 2nd arrays for element-by-element addition. Refer to Figure 3\n",
    "<br>\n",
    "<br>\n",
    "<center><img src=\"imgs/add_mismatch.PNG\"></center>\n",
    "<center>Figure 3: Trailing dimensions of the arrays are unequal .</center>"
   ]
  },
  {
   "cell_type": "markdown",
   "id": "4076ee86",
   "metadata": {},
   "source": [
    "## Summary"
   ]
  },
  {
   "cell_type": "markdown",
   "id": "e55eb6e2",
   "metadata": {},
   "source": [
    "* Broadcasting is a powerful mechanism that allows numpy to work with arrays of different shapes when performing arithmetic operations.\n",
    "* Broadcasting typically makes your code more concise and faster, so you should strive to use it where possible.\n",
    "* In order to broadcast, the size of the trailing axes for both arrays in an operation must **either be the same size** or **one of them must be one**.\n"
   ]
  }
 ],
 "metadata": {
  "kernelspec": {
   "display_name": "Python 3 (ipykernel)",
   "language": "python",
   "name": "python3"
  },
  "language_info": {
   "codemirror_mode": {
    "name": "ipython",
    "version": 3
   },
   "file_extension": ".py",
   "mimetype": "text/x-python",
   "name": "python",
   "nbconvert_exporter": "python",
   "pygments_lexer": "ipython3",
   "version": "3.8.10"
  },
  "toc": {
   "base_numbering": 1,
   "nav_menu": {},
   "number_sections": true,
   "sideBar": true,
   "skip_h1_title": false,
   "title_cell": "Table of Contents",
   "title_sidebar": "Contents",
   "toc_cell": false,
   "toc_position": {},
   "toc_section_display": true,
   "toc_window_display": false
  },
  "varInspector": {
   "cols": {
    "lenName": 16,
    "lenType": 16,
    "lenVar": 40
   },
   "kernels_config": {
    "python": {
     "delete_cmd_postfix": "",
     "delete_cmd_prefix": "del ",
     "library": "var_list.py",
     "varRefreshCmd": "print(var_dic_list())"
    },
    "r": {
     "delete_cmd_postfix": ") ",
     "delete_cmd_prefix": "rm(",
     "library": "var_list.r",
     "varRefreshCmd": "cat(var_dic_list()) "
    }
   },
   "types_to_exclude": [
    "module",
    "function",
    "builtin_function_or_method",
    "instance",
    "_Feature"
   ],
   "window_display": false
  }
 },
 "nbformat": 4,
 "nbformat_minor": 5
}
