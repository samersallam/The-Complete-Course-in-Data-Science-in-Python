{
 "cells": [
  {
   "cell_type": "markdown",
   "id": "3146f5f7",
   "metadata": {},
   "source": [
    "After learning how to create arrays and how to access them using indexing and slicing, now it is calculation time. NumPy array supports different types of operators that allow you to easily process the values of these arrays. In this article, you will learn about:\n",
    "\n",
    "1. Arithmetic operators and functions\n",
    "2. Logical operators\n",
    "3. Vectorization\n",
    "\n",
    "So let us get started ..."
   ]
  },
  {
   "cell_type": "markdown",
   "id": "53a8324c",
   "metadata": {},
   "source": [
    "# Arithmetic operators and functions"
   ]
  },
  {
   "cell_type": "markdown",
   "id": "929891be",
   "metadata": {},
   "source": [
    "In a lot of applications you might need to add, subtract, .. etc NumPy arrays. The good news that all of these mathematical operations are supported using the default operators that you are familiar with.\n",
    "\n",
    "**Some important notes before we move to the real examples**:\n",
    "- Arithmetic operations between multiple Numpy arrays are applied in element-wise way so you do not need to use Python loops (Refer to Figure 1).\n",
    "- A new array will be created as a result of the arithmetic operation between multiple arrays.\n",
    "- Most of arithmetic operations are supported by using either the standard operators or NumPy functions.\n",
    "\n",
    "\n"
   ]
  },
  {
   "cell_type": "markdown",
   "id": "93a87035",
   "metadata": {},
   "source": [
    "<br>\n",
    "<br>\n",
    "<center><img src=\"imgs/element-wise-production.png\"></center>\n",
    "    <center>Figure 1: Element-Wise production</center>"
   ]
  },
  {
   "cell_type": "markdown",
   "id": "dba80ed5",
   "metadata": {},
   "source": [
    "Now, let us see the supported arithmetic operators."
   ]
  },
  {
   "cell_type": "code",
   "execution_count": 38,
   "id": "16d43f3f",
   "metadata": {},
   "outputs": [],
   "source": [
    "import numpy as np"
   ]
  },
  {
   "cell_type": "markdown",
   "id": "e48d79dd",
   "metadata": {},
   "source": [
    "**1.Compute the element-wise summation of two arrays**\n",
    "\n",
    "**numpy.add()**"
   ]
  },
  {
   "cell_type": "code",
   "execution_count": 39,
   "id": "25676966",
   "metadata": {
    "slideshow": {
     "slide_type": "subslide"
    }
   },
   "outputs": [
    {
     "data": {
      "text/plain": [
       "array([58, 28, 64, 15,  9, 30])"
      ]
     },
     "execution_count": 39,
     "metadata": {},
     "output_type": "execute_result"
    }
   ],
   "source": [
    "data1 = np.array([56, 21, 56, 10, 6, 24])\n",
    "data2 = np.array([2, 7, 8, 5, 3, 6])\n",
    "\n",
    "np.add(data1, data2)"
   ]
  },
  {
   "cell_type": "markdown",
   "id": "49c348d4",
   "metadata": {},
   "source": [
    "**+ Operator**"
   ]
  },
  {
   "cell_type": "code",
   "execution_count": 40,
   "id": "1427990a",
   "metadata": {
    "scrolled": true
   },
   "outputs": [
    {
     "data": {
      "text/plain": [
       "array([58, 28, 64, 15,  9, 30])"
      ]
     },
     "execution_count": 40,
     "metadata": {},
     "output_type": "execute_result"
    }
   ],
   "source": [
    "data1 + data2"
   ]
  },
  {
   "cell_type": "markdown",
   "id": "60cc6dd7",
   "metadata": {},
   "source": [
    ".........................................................................."
   ]
  },
  {
   "cell_type": "markdown",
   "id": "45771075",
   "metadata": {},
   "source": [
    "**2.Compute the element-wise subtraction of two arrays**\n",
    "\n",
    "**numpy.subtract()**"
   ]
  },
  {
   "cell_type": "code",
   "execution_count": 41,
   "id": "6afe2c88",
   "metadata": {
    "slideshow": {
     "slide_type": "subslide"
    }
   },
   "outputs": [
    {
     "data": {
      "text/plain": [
       "array([54, 14, 48,  5,  3, 18])"
      ]
     },
     "execution_count": 41,
     "metadata": {},
     "output_type": "execute_result"
    }
   ],
   "source": [
    "data1 = np.array([56, 21, 56, 10, 6, 24])\n",
    "data2 = np.array([2, 7, 8, 5, 3, 6])\n",
    "\n",
    "np.subtract(data1, data2)"
   ]
  },
  {
   "cell_type": "markdown",
   "id": "ec8251b3",
   "metadata": {},
   "source": [
    "**- Operator**"
   ]
  },
  {
   "cell_type": "code",
   "execution_count": 42,
   "id": "33f5b46f",
   "metadata": {},
   "outputs": [
    {
     "data": {
      "text/plain": [
       "array([54, 14, 48,  5,  3, 18])"
      ]
     },
     "execution_count": 42,
     "metadata": {},
     "output_type": "execute_result"
    }
   ],
   "source": [
    "data1 - data2"
   ]
  },
  {
   "cell_type": "markdown",
   "id": "bcc74e9f",
   "metadata": {},
   "source": [
    ".........................................................................."
   ]
  },
  {
   "cell_type": "markdown",
   "id": "fe353135",
   "metadata": {},
   "source": [
    "**3.Compute the element-wise division of two arrays**\n",
    "\n",
    "**numpy.divide()**"
   ]
  },
  {
   "cell_type": "code",
   "execution_count": 43,
   "id": "bbe854d4",
   "metadata": {
    "slideshow": {
     "slide_type": "subslide"
    }
   },
   "outputs": [
    {
     "data": {
      "text/plain": [
       "array([28.,  3.,  7.,  2.,  2.,  4.])"
      ]
     },
     "execution_count": 43,
     "metadata": {},
     "output_type": "execute_result"
    }
   ],
   "source": [
    "data1 = np.array([56, 21, 56, 10, 6, 24])\n",
    "data2 = np.array([2, 7, 8, 5, 3, 6])\n",
    "\n",
    "np.divide(data1, data2)"
   ]
  },
  {
   "cell_type": "markdown",
   "id": "76f29ff0",
   "metadata": {},
   "source": [
    "**/ Operator**"
   ]
  },
  {
   "cell_type": "code",
   "execution_count": 44,
   "id": "a9892762",
   "metadata": {},
   "outputs": [
    {
     "data": {
      "text/plain": [
       "array([28.,  3.,  7.,  2.,  2.,  4.])"
      ]
     },
     "execution_count": 44,
     "metadata": {},
     "output_type": "execute_result"
    }
   ],
   "source": [
    "data1 / data2"
   ]
  },
  {
   "cell_type": "markdown",
   "id": "c18c3acd",
   "metadata": {},
   "source": [
    ".........................................................................."
   ]
  },
  {
   "cell_type": "markdown",
   "id": "c8d453da",
   "metadata": {},
   "source": [
    "**4.Compute the element-wise multplication of two arrays**\n",
    "\n",
    "**numpy.multiply()**"
   ]
  },
  {
   "cell_type": "code",
   "execution_count": 45,
   "id": "c4629a9d",
   "metadata": {
    "slideshow": {
     "slide_type": "subslide"
    }
   },
   "outputs": [
    {
     "data": {
      "text/plain": [
       "array([112, 147, 448,  50,  18, 144])"
      ]
     },
     "execution_count": 45,
     "metadata": {},
     "output_type": "execute_result"
    }
   ],
   "source": [
    "data1 = np.array([56, 21, 56, 10, 6, 24])\n",
    "data2 = np.array([2, 7, 8, 5, 3, 6])\n",
    "\n",
    "np.multiply(data1, data2)"
   ]
  },
  {
   "cell_type": "markdown",
   "id": "3230e71f",
   "metadata": {},
   "source": [
    "***Operator**"
   ]
  },
  {
   "cell_type": "code",
   "execution_count": 46,
   "id": "a8cb9f1c",
   "metadata": {},
   "outputs": [
    {
     "data": {
      "text/plain": [
       "array([112, 147, 448,  50,  18, 144])"
      ]
     },
     "execution_count": 46,
     "metadata": {},
     "output_type": "execute_result"
    }
   ],
   "source": [
    "data1 * data2"
   ]
  },
  {
   "cell_type": "markdown",
   "id": "eb9e7a14",
   "metadata": {},
   "source": [
    "**Important Notes** "
   ]
  },
  {
   "cell_type": "code",
   "execution_count": 47,
   "id": "8fd0bb98",
   "metadata": {},
   "outputs": [],
   "source": [
    "data1 = np.array([56, 21, 56, 10, 6, 24])\n",
    "data2 = np.array([2, 11, 8, 5, 3, 6])\n",
    "data3 = np.array([2, 10, 8, 5, 3, 11])"
   ]
  },
  {
   "cell_type": "markdown",
   "id": "3709b092",
   "metadata": {},
   "source": [
    "**Note 1:** Operations like +=, -=, *= act in place and modify the existing array."
   ]
  },
  {
   "cell_type": "code",
   "execution_count": 48,
   "id": "3ab7cf56",
   "metadata": {},
   "outputs": [
    {
     "data": {
      "text/plain": [
       "array([112, 231, 448,  50,  18, 144])"
      ]
     },
     "execution_count": 48,
     "metadata": {},
     "output_type": "execute_result"
    }
   ],
   "source": [
    "data1 *= data2\n",
    "data1"
   ]
  },
  {
   "cell_type": "markdown",
   "id": "f1c89b6d",
   "metadata": {},
   "source": [
    "**Note 2:** The operator priorites follow the same rules as that in Python (parentheses, exponentiation, multiplication, division, addition, subtraction)"
   ]
  },
  {
   "cell_type": "code",
   "execution_count": 49,
   "id": "492c6f21",
   "metadata": {},
   "outputs": [
    {
     "data": {
      "text/plain": [
       "array([ 226, 2551, 3592,  255,   57,  875])"
      ]
     },
     "execution_count": 49,
     "metadata": {},
     "output_type": "execute_result"
    }
   ],
   "source": [
    "res = (data1 * data2) + data3\n",
    "res"
   ]
  },
  {
   "cell_type": "markdown",
   "id": "2380fd84",
   "metadata": {},
   "source": [
    "For more information about mathematical functions, you can visit numpy mathematical functions documentation, [Here](https://numpy.org/doc/stable/reference/routines.math.html)"
   ]
  },
  {
   "cell_type": "markdown",
   "id": "8dd9e9a0",
   "metadata": {},
   "source": [
    "**Note 2:** Operations like comparison between multiple Numpy arrays are applied element wise. They return an array of booleans."
   ]
  },
  {
   "cell_type": "markdown",
   "id": "4bfb20bd",
   "metadata": {},
   "source": [
    "# Logical operators and functions"
   ]
  },
  {
   "cell_type": "markdown",
   "id": "4d8b2da8",
   "metadata": {},
   "source": [
    "NumPy array also supports all the logical operators that allow you to easily compare between the array element"
   ]
  },
  {
   "cell_type": "code",
   "execution_count": 50,
   "id": "5adce88c",
   "metadata": {},
   "outputs": [],
   "source": [
    "data1 = np.array([56, 21, 56, 10, 6, 24])\n",
    "data2 = np.array([2, 11, 8, 5, 3, 6])"
   ]
  },
  {
   "cell_type": "code",
   "execution_count": 51,
   "id": "d0e3b178",
   "metadata": {},
   "outputs": [
    {
     "data": {
      "text/plain": [
       "array([ True,  True,  True,  True,  True,  True])"
      ]
     },
     "execution_count": 51,
     "metadata": {},
     "output_type": "execute_result"
    }
   ],
   "source": [
    "data1 > data2  # You can use > < >= <= != =="
   ]
  },
  {
   "cell_type": "markdown",
   "id": "f7e9a05f",
   "metadata": {},
   "source": [
    "# Vectorization "
   ]
  },
  {
   "cell_type": "markdown",
   "id": "a234d9be",
   "metadata": {},
   "source": [
    "From the previous examples we see that all of these operators are applied element-wise and covered all the array elements without using any kinds of loops, but why?\n",
    "Simply because NumPy array supports what is called **Vectorization**.\n",
    "\n",
    "**Vectorization**: is a highly optimized way of executing array operations without using for loops which in turns reduces the running and execution time of code.\n",
    "\n",
    "Having this feature makes the NumPy array a more optimized option for doing mathematical operations over the standard Python data structures like lists.\n"
   ]
  },
  {
   "cell_type": "markdown",
   "id": "a8e0d2dd",
   "metadata": {},
   "source": [
    "# Summary\n",
    "\n",
    "\n",
    "<br>\n",
    "<br>\n",
    "<center><img src=\"imgs/summary.jpeg\"></center>"
   ]
  },
  {
   "cell_type": "markdown",
   "id": "50021301",
   "metadata": {},
   "source": [
    "Now let’s summarize what we have learned in this lesson:\n",
    "- NumPy array supports all of the mathematical and logical operators\n",
    "- Mathematical and logical operators are element-wise operators.\n",
    "- NumPy array supports Vectorization which makes it a  more optimized oprtion for doing mathematical operations over the standard Python data structures.\n",
    "\n"
   ]
  }
 ],
 "metadata": {
  "kernelspec": {
   "display_name": "Python 3 (ipykernel)",
   "language": "python",
   "name": "python3"
  },
  "language_info": {
   "codemirror_mode": {
    "name": "ipython",
    "version": 3
   },
   "file_extension": ".py",
   "mimetype": "text/x-python",
   "name": "python",
   "nbconvert_exporter": "python",
   "pygments_lexer": "ipython3",
   "version": "3.8.10"
  },
  "toc": {
   "base_numbering": 1,
   "nav_menu": {},
   "number_sections": true,
   "sideBar": true,
   "skip_h1_title": false,
   "title_cell": "Table of Contents",
   "title_sidebar": "Contents",
   "toc_cell": false,
   "toc_position": {},
   "toc_section_display": true,
   "toc_window_display": false
  },
  "varInspector": {
   "cols": {
    "lenName": 16,
    "lenType": 16,
    "lenVar": 40
   },
   "kernels_config": {
    "python": {
     "delete_cmd_postfix": "",
     "delete_cmd_prefix": "del ",
     "library": "var_list.py",
     "varRefreshCmd": "print(var_dic_list())"
    },
    "r": {
     "delete_cmd_postfix": ") ",
     "delete_cmd_prefix": "rm(",
     "library": "var_list.r",
     "varRefreshCmd": "cat(var_dic_list()) "
    }
   },
   "types_to_exclude": [
    "module",
    "function",
    "builtin_function_or_method",
    "instance",
    "_Feature"
   ],
   "window_display": false
  }
 },
 "nbformat": 4,
 "nbformat_minor": 5
}
