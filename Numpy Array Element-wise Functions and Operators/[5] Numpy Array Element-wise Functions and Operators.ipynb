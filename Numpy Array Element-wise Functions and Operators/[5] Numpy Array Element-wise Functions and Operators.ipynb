{
 "cells": [
  {
   "cell_type": "markdown",
   "id": "784ba1b4",
   "metadata": {
    "slideshow": {
     "slide_type": "slide"
    }
   },
   "source": [
    "## Element-wise Functions and Operators"
   ]
  },
  {
   "cell_type": "markdown",
   "id": "53e06958",
   "metadata": {},
   "source": [
    "You are able now to represent your data as an array, and you can access them using array indexing and slicing for the next calculations."
   ]
  },
  {
   "cell_type": "markdown",
   "id": "7cea4ab6",
   "metadata": {},
   "source": [
    "Do I have to use loops while working with arrays?\n",
    "\n",
    "Arrays are important because they enable you to express batch operations on data without writing any for loops. This is usually called vectorization. Any arithmetic operations between equal-size arrays applies the operation elementwise.\n",
    "\n",
    "**Here are some examples about element wise operations:**"
   ]
  },
  {
   "cell_type": "code",
   "execution_count": 9,
   "id": "9eaece60",
   "metadata": {},
   "outputs": [],
   "source": [
    "import numpy as np"
   ]
  },
  {
   "cell_type": "markdown",
   "id": "2d33d4a2",
   "metadata": {},
   "source": [
    "**1.Compute the element-wise summation of two arrays**\n",
    "\n",
    "**numpy.add()**"
   ]
  },
  {
   "cell_type": "code",
   "execution_count": 10,
   "id": "c7118366",
   "metadata": {
    "slideshow": {
     "slide_type": "subslide"
    }
   },
   "outputs": [
    {
     "data": {
      "text/plain": [
       "array([58, 28, 64, 15,  9, 30])"
      ]
     },
     "execution_count": 10,
     "metadata": {},
     "output_type": "execute_result"
    }
   ],
   "source": [
    "data1 = np.array([56, 21, 56, 10, 6, 24])\n",
    "data2 = np.array([2, 7, 8, 5, 3, 6])\n",
    "\n",
    "np.add(data1, data2)"
   ]
  },
  {
   "cell_type": "markdown",
   "id": "cc40ad8f",
   "metadata": {},
   "source": [
    "**+ Operator**"
   ]
  },
  {
   "cell_type": "code",
   "execution_count": 11,
   "id": "d61cd2b5",
   "metadata": {},
   "outputs": [
    {
     "data": {
      "text/plain": [
       "array([58, 28, 64, 15,  9, 30])"
      ]
     },
     "execution_count": 11,
     "metadata": {},
     "output_type": "execute_result"
    }
   ],
   "source": [
    "data1 + data2"
   ]
  },
  {
   "cell_type": "markdown",
   "id": "ecae6978",
   "metadata": {},
   "source": [
    ".........................................................................."
   ]
  },
  {
   "cell_type": "markdown",
   "id": "29f48d33",
   "metadata": {},
   "source": [
    "**2.Compute the element-wise subtraction of two arrays**\n",
    "\n",
    "**numpy.subtract()**"
   ]
  },
  {
   "cell_type": "code",
   "execution_count": 52,
   "id": "5f5456d9",
   "metadata": {
    "slideshow": {
     "slide_type": "subslide"
    }
   },
   "outputs": [
    {
     "data": {
      "text/plain": [
       "array([54, 14, 48,  5,  3, 18])"
      ]
     },
     "execution_count": 52,
     "metadata": {},
     "output_type": "execute_result"
    }
   ],
   "source": [
    "data1 = np.array([56, 21, 56, 10, 6, 24])\n",
    "data2 = np.array([2, 7, 8, 5, 3, 6])\n",
    "\n",
    "np.subtract(data1, data2)"
   ]
  },
  {
   "cell_type": "markdown",
   "id": "f61cfe9b",
   "metadata": {},
   "source": [
    "**- Operator**"
   ]
  },
  {
   "cell_type": "code",
   "execution_count": 12,
   "id": "fbe791f1",
   "metadata": {},
   "outputs": [
    {
     "data": {
      "text/plain": [
       "array([54, 14, 48,  5,  3, 18])"
      ]
     },
     "execution_count": 12,
     "metadata": {},
     "output_type": "execute_result"
    }
   ],
   "source": [
    "data1 - data2"
   ]
  },
  {
   "cell_type": "markdown",
   "id": "eba246f8",
   "metadata": {},
   "source": [
    ".........................................................................."
   ]
  },
  {
   "cell_type": "markdown",
   "id": "2bdda7fe",
   "metadata": {},
   "source": [
    "**3.Compute the element-wise division of two arrays**\n",
    "\n",
    "**numpy.divide()**"
   ]
  },
  {
   "cell_type": "code",
   "execution_count": 53,
   "id": "db3dc92c",
   "metadata": {
    "slideshow": {
     "slide_type": "subslide"
    }
   },
   "outputs": [
    {
     "data": {
      "text/plain": [
       "array([28.,  3.,  7.,  2.,  2.,  4.])"
      ]
     },
     "execution_count": 53,
     "metadata": {},
     "output_type": "execute_result"
    }
   ],
   "source": [
    "data1 = np.array([56, 21, 56, 10, 6, 24])\n",
    "data2 = np.array([2, 7, 8, 5, 3, 6])\n",
    "\n",
    "np.divide(data1, data2)"
   ]
  },
  {
   "cell_type": "markdown",
   "id": "84290995",
   "metadata": {},
   "source": [
    "**/ Operator**"
   ]
  },
  {
   "cell_type": "code",
   "execution_count": 14,
   "id": "9fce8a16",
   "metadata": {},
   "outputs": [
    {
     "data": {
      "text/plain": [
       "array([28.,  3.,  7.,  2.,  2.,  4.])"
      ]
     },
     "execution_count": 14,
     "metadata": {},
     "output_type": "execute_result"
    }
   ],
   "source": [
    "data1 / data2"
   ]
  },
  {
   "cell_type": "markdown",
   "id": "6ae8e928",
   "metadata": {},
   "source": [
    ".........................................................................."
   ]
  },
  {
   "cell_type": "markdown",
   "id": "7d6a3d11",
   "metadata": {},
   "source": [
    "**4.Compute the element-wise multplication of two arrays**\n",
    "\n",
    "**numpy.multiply()**"
   ]
  },
  {
   "cell_type": "code",
   "execution_count": 54,
   "id": "a62cdb19",
   "metadata": {
    "slideshow": {
     "slide_type": "subslide"
    }
   },
   "outputs": [
    {
     "data": {
      "text/plain": [
       "array([112, 147, 448,  50,  18, 144])"
      ]
     },
     "execution_count": 54,
     "metadata": {},
     "output_type": "execute_result"
    }
   ],
   "source": [
    "data1 = np.array([56, 21, 56, 10, 6, 24])\n",
    "data2 = np.array([2, 7, 8, 5, 3, 6])\n",
    "\n",
    "np.multiply(data1, data2)"
   ]
  },
  {
   "cell_type": "markdown",
   "id": "02cd5347",
   "metadata": {},
   "source": [
    "***Operator**"
   ]
  },
  {
   "cell_type": "code",
   "execution_count": 17,
   "id": "1aa8c303",
   "metadata": {},
   "outputs": [
    {
     "data": {
      "text/plain": [
       "array([112, 147, 448,  50,  18, 144])"
      ]
     },
     "execution_count": 17,
     "metadata": {},
     "output_type": "execute_result"
    }
   ],
   "source": [
    "data1 * data2"
   ]
  },
  {
   "cell_type": "markdown",
   "id": "484e819d",
   "metadata": {},
   "source": [
    "**NOTE**: For more information about mathematical functions, you can visit numpy mathematical functions documentation, [Here](https://numpy.org/doc/stable/reference/routines.math.html)"
   ]
  },
  {
   "cell_type": "markdown",
   "id": "f8ff9693",
   "metadata": {},
   "source": [
    "## Broadcasting"
   ]
  },
  {
   "cell_type": "code",
   "execution_count": null,
   "id": "65f24c9e",
   "metadata": {},
   "outputs": [],
   "source": []
  }
 ],
 "metadata": {
  "kernelspec": {
   "display_name": "Python 3 (ipykernel)",
   "language": "python",
   "name": "python3"
  },
  "language_info": {
   "codemirror_mode": {
    "name": "ipython",
    "version": 3
   },
   "file_extension": ".py",
   "mimetype": "text/x-python",
   "name": "python",
   "nbconvert_exporter": "python",
   "pygments_lexer": "ipython3",
   "version": "3.7.8"
  }
 },
 "nbformat": 4,
 "nbformat_minor": 5
}
